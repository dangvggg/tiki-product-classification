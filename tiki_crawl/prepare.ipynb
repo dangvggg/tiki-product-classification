{
 "cells": [
  {
   "cell_type": "code",
   "execution_count": 1,
   "metadata": {},
   "outputs": [],
   "source": [
    "import pandas as pd"
   ]
  },
  {
   "cell_type": "code",
   "execution_count": 11,
   "metadata": {},
   "outputs": [],
   "source": [
    "\n",
    "\n",
    "with open(\"13_11_tiki_crawl_2.txt\", \"r\",encoding='UTF-8') as f:\n",
    "    data = f.readlines()\n",
    "\n",
    "data = [x.strip() for x in data]\n",
    "\n",
    "data_df = pd.DataFrame(data, columns=[\"text\"])\n",
    "\n",
    "data_df[\"label\"] = data_df[\"text\"].str.split(\"__\").str[0]\n",
    "data_df[\"product\"] = data_df[\"text\"].str.split(\"__\").str[1]\n",
    "data_df.to_excel(\"tiki_2.xlsx\")"
   ]
  },
  {
   "cell_type": "code",
   "execution_count": 2,
   "metadata": {},
   "outputs": [],
   "source": [
    "df1 = pd.read_excel(\"tiki_1.xlsx\")\n",
    "df2 = pd.read_excel(\"tiki_2.xlsx\")\n",
    "\n",
    "df = pd.concat([df1, df2], ignore_index=True)\n",
    "df.to_excel(\"tiki_final.xlsx\")\n"
   ]
  },
  {
   "cell_type": "code",
   "execution_count": null,
   "metadata": {},
   "outputs": [],
   "source": [
    "df3 = pd.read_excel(\"tiki_final.xlsx\")\n",
    "df = df.dropna(subset=[\"product\"])\n",
    "labels_read=[]\n",
    "with open('label_data.txt', 'r', encoding= 'utf-8') as f:\n",
    "    lines = f.readlines()\n",
    "    for line in lines:\n",
    "        labels_read.append(line.replace('\\n', ''))\n",
    "        \n",
    "df = df.sort_values(by=\"label\", key=lambda x: labels_read.index(x))\n",
    "df.to_excel(\"tiki_final_3.xlsx\")"
   ]
  }
 ],
 "metadata": {
  "kernelspec": {
   "display_name": "Python 3",
   "language": "python",
   "name": "python3"
  },
  "language_info": {
   "codemirror_mode": {
    "name": "ipython",
    "version": 3
   },
   "file_extension": ".py",
   "mimetype": "text/x-python",
   "name": "python",
   "nbconvert_exporter": "python",
   "pygments_lexer": "ipython3",
   "version": "3.10.5"
  }
 },
 "nbformat": 4,
 "nbformat_minor": 2
}
