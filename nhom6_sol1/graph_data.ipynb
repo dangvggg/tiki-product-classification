{
 "cells": [
  {
   "cell_type": "code",
   "execution_count": 2,
   "metadata": {},
   "outputs": [],
   "source": [
    "import pandas as pd"
   ]
  },
  {
   "cell_type": "markdown",
   "metadata": {},
   "source": [
    "nhóm sản phẩm theo label"
   ]
  },
  {
   "cell_type": "code",
   "execution_count": 5,
   "metadata": {},
   "outputs": [],
   "source": [
    "df = pd.read_excel(\"output.xlsx\")\n",
    "df[\"SoLuong\"] = df.groupby(\"label\")[\"tên sản phẩm\"].transform(\"size\")\n",
    "df[\"TongHop\"] = df.groupby(\"label\")[\"tên sản phẩm\"].transform(lambda x: \", \".join(x))"
   ]
  },
  {
   "cell_type": "markdown",
   "metadata": {},
   "source": [
    "ghi ra file excel"
   ]
  },
  {
   "cell_type": "code",
   "execution_count": null,
   "metadata": {},
   "outputs": [],
   "source": [
    "df.to_excel(\"data_2.xlsx\", sheet_name=\"my_sheet\")"
   ]
  },
  {
   "cell_type": "markdown",
   "metadata": {},
   "source": [
    "lọc giá trị lặp"
   ]
  },
  {
   "cell_type": "code",
   "execution_count": 3,
   "metadata": {},
   "outputs": [],
   "source": [
    "import pandas as pd\n",
    "\n",
    "\n",
    "df = pd.read_excel(\"data_2.xlsx\")\n",
    "\n",
    "\n",
    "df = df.drop_duplicates(subset=[\"label\"])\n",
    "\n",
    "\n",
    "df.to_excel(\"data_3.xlsx\")"
   ]
  },
  {
   "cell_type": "markdown",
   "metadata": {},
   "source": [
    "Từ excel sang txt"
   ]
  },
  {
   "cell_type": "code",
   "execution_count": 17,
   "metadata": {},
   "outputs": [],
   "source": [
    "import pandas as pd\n",
    "\n",
    "df = pd.read_excel(\"data_3.xlsx\")\n",
    "\n",
    "data = df[\"label\"].to_list()\n",
    "\n",
    "with open(\"label_data.txt\", \"w\", encoding='utf-8') as f:\n",
    "    for item in data:\n",
    "        f.write(item + \"\\n\")"
   ]
  },
  {
   "cell_type": "code",
   "execution_count": 8,
   "metadata": {},
   "outputs": [
    {
     "name": "stdout",
     "output_type": "stream",
     "text": [
      "Khuôn_cửa,_khung_cửa\n",
      "['Khuôn_cửa,_khung_cửa', 'Tranh_gạch', 'Bàn_ghế_nhựa', 'Xe_quét_rác']\n",
      "['Khuôn Lục Giác', 'Tranh gạch 3d phong cảnh thiên nhiên Pita 04', 'Ghế Nhựa Rosa', 'Xe quét rác hút bụi Sweepmaster D1200']\n",
      "['__label__Khuôn_cửa,_khung_cửa Khuôn Lục Giác', '__label__Tranh_gạch Tranh gạch 3d phong cảnh thiên nhiên Pita 04', '__label__Bàn_ghế_nhựa Ghế Nhựa Rosa', '__label__Xe_quét_rác Xe quét rác hút bụi Sweepmaster D1200']\n",
      "['__label__Khuôn_cửa,_khung_cửa Khuôn Lục Giác', '__label__Tranh_gạch Tranh gạch 3d phong cảnh thiên nhiên Pita 04', '__label__Bàn_ghế_nhựa Ghế Nhựa Rosa', '__label__Xe_quét_rác Xe quét rác hút bụi Sweepmaster D1200']\n"
     ]
    }
   ],
   "source": [
    "import pandas as pd\n",
    "\n",
    "df = pd.read_excel(\"ketqua4.xlsx\")\n",
    "label = df[\"predictLabel\"].to_list()\n",
    "x= label[0].replace(\" \", \"_\")\n",
    "print(x)\n",
    "label_result=[]\n",
    "for i in label:\n",
    "   label_result.append(i.replace(\" \", \"_\"))\n",
    "print(label_result[0:4])\n",
    "product = df[\"productName\"].to_list()\n",
    "product_result =[]\n",
    "for i in product:\n",
    "    product_result.append(str(i).replace(\"\\n\", \"\"))\n",
    "print(product_result[0:4])\n",
    "data=[]\n",
    "for i in label_result:\n",
    "    text = \"__label__\"+ i + \" \" \n",
    "    data.append(text)\n",
    "for j in range(len(product_result)):\n",
    "    data[j] = data[j] + str(product[j])\n",
    "\n",
    "print(data[0:4])\n",
    "data_result=[]\n",
    "for i in data:\n",
    "    data_result.append(i.replace(\"\\n\", \"\"))\n",
    "print(data_result[0:4])\n",
    "\n",
    "with open(\"ketqua4.txt\", \"w\", encoding='utf-8') as f:\n",
    "    for item in data_result:\n",
    "        f.write(item + \"\\n\")"
   ]
  }
 ],
 "metadata": {
  "kernelspec": {
   "display_name": "Python 3",
   "language": "python",
   "name": "python3"
  },
  "language_info": {
   "codemirror_mode": {
    "name": "ipython",
    "version": 3
   },
   "file_extension": ".py",
   "mimetype": "text/x-python",
   "name": "python",
   "nbconvert_exporter": "python",
   "pygments_lexer": "ipython3",
   "version": "3.10.5"
  }
 },
 "nbformat": 4,
 "nbformat_minor": 2
}
